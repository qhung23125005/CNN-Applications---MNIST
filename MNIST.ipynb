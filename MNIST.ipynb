{
  "nbformat": 4,
  "nbformat_minor": 0,
  "metadata": {
    "colab": {
      "provenance": [],
      "gpuType": "T4"
    },
    "kernelspec": {
      "name": "python3",
      "display_name": "Python 3"
    },
    "language_info": {
      "name": "python"
    },
    "accelerator": "GPU"
  },
  "cells": [
    {
      "cell_type": "code",
      "execution_count": null,
      "metadata": {
        "id": "yPftnZyHZAoL"
      },
      "outputs": [],
      "source": [
        "import os\n",
        "import random\n",
        "import numpy as np\n",
        "\n",
        "import torch\n",
        "import torch.nn as nn\n",
        "import torch.optim as optim\n",
        "import torch.nn.functional as F\n",
        "import torch.utils.data as data\n",
        "\n",
        "import torchvision.transforms as transforms\n",
        "import torchvision.datasets as datasets\n",
        "\n",
        "from torchsummary import summary\n",
        "\n",
        "import matplotlib.pyplot as plt\n",
        "from PIL import Image\n",
        "import time"
      ]
    },
    {
      "cell_type": "markdown",
      "source": [
        "#Data"
      ],
      "metadata": {
        "id": "OiGLCKuxZx_C"
      }
    },
    {
      "cell_type": "markdown",
      "source": [
        "##Load data\n",
        "\n"
      ],
      "metadata": {
        "id": "WK_wZzEFa-8V"
      }
    },
    {
      "cell_type": "code",
      "source": [
        "ROOT = './data'\n",
        "train_data = datasets.MNIST(\n",
        "    root = ROOT,\n",
        "    train = True,\n",
        "    download = True\n",
        ")\n",
        "test_data = datasets.MNIST(\n",
        "    root = ROOT,\n",
        "    train = False,\n",
        "    download = True\n",
        ")"
      ],
      "metadata": {
        "colab": {
          "base_uri": "https://localhost:8080/"
        },
        "id": "rDo-zBXUar3D",
        "outputId": "2bc22a06-6402-43bb-e32d-243c25c84615"
      },
      "execution_count": null,
      "outputs": [
        {
          "output_type": "stream",
          "name": "stdout",
          "text": [
            "Downloading http://yann.lecun.com/exdb/mnist/train-images-idx3-ubyte.gz\n",
            "Failed to download (trying next):\n",
            "HTTP Error 404: Not Found\n",
            "\n",
            "Downloading https://ossci-datasets.s3.amazonaws.com/mnist/train-images-idx3-ubyte.gz\n",
            "Downloading https://ossci-datasets.s3.amazonaws.com/mnist/train-images-idx3-ubyte.gz to ./data/MNIST/raw/train-images-idx3-ubyte.gz\n"
          ]
        },
        {
          "output_type": "stream",
          "name": "stderr",
          "text": [
            "100%|██████████| 9.91M/9.91M [00:00<00:00, 16.0MB/s]\n"
          ]
        },
        {
          "output_type": "stream",
          "name": "stdout",
          "text": [
            "Extracting ./data/MNIST/raw/train-images-idx3-ubyte.gz to ./data/MNIST/raw\n",
            "\n",
            "Downloading http://yann.lecun.com/exdb/mnist/train-labels-idx1-ubyte.gz\n",
            "Failed to download (trying next):\n",
            "HTTP Error 404: Not Found\n",
            "\n",
            "Downloading https://ossci-datasets.s3.amazonaws.com/mnist/train-labels-idx1-ubyte.gz\n",
            "Downloading https://ossci-datasets.s3.amazonaws.com/mnist/train-labels-idx1-ubyte.gz to ./data/MNIST/raw/train-labels-idx1-ubyte.gz\n"
          ]
        },
        {
          "output_type": "stream",
          "name": "stderr",
          "text": [
            "100%|██████████| 28.9k/28.9k [00:00<00:00, 488kB/s]\n"
          ]
        },
        {
          "output_type": "stream",
          "name": "stdout",
          "text": [
            "Extracting ./data/MNIST/raw/train-labels-idx1-ubyte.gz to ./data/MNIST/raw\n",
            "\n",
            "Downloading http://yann.lecun.com/exdb/mnist/t10k-images-idx3-ubyte.gz\n",
            "Failed to download (trying next):\n",
            "HTTP Error 404: Not Found\n",
            "\n",
            "Downloading https://ossci-datasets.s3.amazonaws.com/mnist/t10k-images-idx3-ubyte.gz\n",
            "Downloading https://ossci-datasets.s3.amazonaws.com/mnist/t10k-images-idx3-ubyte.gz to ./data/MNIST/raw/t10k-images-idx3-ubyte.gz\n"
          ]
        },
        {
          "output_type": "stream",
          "name": "stderr",
          "text": [
            "100%|██████████| 1.65M/1.65M [00:00<00:00, 4.41MB/s]\n"
          ]
        },
        {
          "output_type": "stream",
          "name": "stdout",
          "text": [
            "Extracting ./data/MNIST/raw/t10k-images-idx3-ubyte.gz to ./data/MNIST/raw\n",
            "\n",
            "Downloading http://yann.lecun.com/exdb/mnist/t10k-labels-idx1-ubyte.gz\n",
            "Failed to download (trying next):\n",
            "HTTP Error 404: Not Found\n",
            "\n",
            "Downloading https://ossci-datasets.s3.amazonaws.com/mnist/t10k-labels-idx1-ubyte.gz\n",
            "Downloading https://ossci-datasets.s3.amazonaws.com/mnist/t10k-labels-idx1-ubyte.gz to ./data/MNIST/raw/t10k-labels-idx1-ubyte.gz\n"
          ]
        },
        {
          "output_type": "stream",
          "name": "stderr",
          "text": [
            "100%|██████████| 4.54k/4.54k [00:00<00:00, 4.55MB/s]"
          ]
        },
        {
          "output_type": "stream",
          "name": "stdout",
          "text": [
            "Extracting ./data/MNIST/raw/t10k-labels-idx1-ubyte.gz to ./data/MNIST/raw\n",
            "\n"
          ]
        },
        {
          "output_type": "stream",
          "name": "stderr",
          "text": [
            "\n"
          ]
        }
      ]
    },
    {
      "cell_type": "code",
      "source": [
        "plt.imshow(train_data.data[0], cmap='gray')\n",
        "plt.show()"
      ],
      "metadata": {
        "colab": {
          "base_uri": "https://localhost:8080/",
          "height": 430
        },
        "id": "-ewHVgaSbZw_",
        "outputId": "1a959ec4-b924-4dbc-9c0a-bbe0d11184e9"
      },
      "execution_count": null,
      "outputs": [
        {
          "output_type": "display_data",
          "data": {
            "text/plain": [
              "<Figure size 640x480 with 1 Axes>"
            ],
            "image/png": "[encoded data removed]"
          },
          "metadata": {}
        }
      ]
    },
    {
      "cell_type": "markdown",
      "source": [
        "##Split data"
      ],
      "metadata": {
        "id": "P-dG--JvcAyM"
      }
    },
    {
      "cell_type": "code",
      "source": [
        "VALID_RATIO = 0.9\n",
        "\n",
        "n_train_samples = int(len(train_data) * VALID_RATIO)\n",
        "n_valid_samples = len(train_data) - n_train_samples\n",
        "\n",
        "train_data, valid_data = data.random_split(\n",
        "  train_data,\n",
        "  [n_train_samples, n_valid_samples]\n",
        ")"
      ],
      "metadata": {
        "id": "unWnUs24cFqQ"
      },
      "execution_count": null,
      "outputs": []
    },
    {
      "cell_type": "markdown",
      "source": [
        "##Standardize data"
      ],
      "metadata": {
        "id": "5L6K5ScUctIL"
      }
    },
    {
      "cell_type": "code",
      "source": [
        "mean = train_data.dataset.data.float().mean() / 256\n",
        "std = train_data.dataset.data.float().std() / 256\n",
        "\n",
        "train_transforms = transforms.Compose([\n",
        "    transforms.ToTensor(),\n",
        "    transforms.Normalize(mean = [mean], std = [std])\n",
        "])\n",
        "\n",
        "test_transforms = transforms.Compose([\n",
        "    transforms.ToTensor(),\n",
        "    transforms.Normalize(mean = [mean], std = [std])\n",
        "])\n",
        "\n",
        "train_data.dataset.transform = train_transforms\n",
        "valid_data.dataset.transform = test_transforms"
      ],
      "metadata": {
        "id": "Df9AX5NBcuig"
      },
      "execution_count": null,
      "outputs": []
    },
    {
      "cell_type": "markdown",
      "source": [
        "##Create dataloader"
      ],
      "metadata": {
        "id": "fEYcp7-sdY2M"
      }
    },
    {
      "cell_type": "code",
      "source": [
        "BATCH_SIZE = 256\n",
        "\n",
        "train_dataloader = data.DataLoader(\n",
        "    train_data,\n",
        "    shuffle = True,\n",
        "    batch_size = BATCH_SIZE\n",
        ")\n",
        "\n",
        "valid_dataloader = data.DataLoader(\n",
        "    valid_data,\n",
        "    batch_size = BATCH_SIZE\n",
        ")"
      ],
      "metadata": {
        "id": "eb6P4maEdbdm"
      },
      "execution_count": null,
      "outputs": []
    },
    {
      "cell_type": "markdown",
      "source": [
        "#Modeling"
      ],
      "metadata": {
        "id": "ppl5XgATdnv9"
      }
    },
    {
      "cell_type": "markdown",
      "source": [
        "##Model"
      ],
      "metadata": {
        "id": "x-672tX1fIEC"
      }
    },
    {
      "cell_type": "code",
      "source": [
        "class LeNetClassifier(nn.Module):\n",
        "  def __init__(self, num_classes):\n",
        "    super().__init__()\n",
        "    self.conv1 = nn.Conv2d(\n",
        "        in_channels = 1, out_channels = 6, kernel_size = 5,\n",
        "        padding = 'same'\n",
        "    )\n",
        "    self.avgpool1 = nn.AvgPool2d(kernel_size = 2)\n",
        "    self.conv2 = nn.Conv2d(\n",
        "        in_channels = 6, out_channels = 16, kernel_size = 5\n",
        "    )\n",
        "    self.avgpool2 = nn.AvgPool2d(kernel_size = 2)\n",
        "    self.flatten = nn.Flatten()\n",
        "    self.fc1 = nn.Linear(in_features = 16 * 5 * 5, out_features = 120)\n",
        "    self.fc2 = nn.Linear(in_features = 120, out_features = 84)\n",
        "    self.fc3 = nn.Linear(in_features = 84, out_features = num_classes)\n",
        "\n",
        "  def forward(self, x):\n",
        "    outputs = self.conv1(x)\n",
        "    outputs = self.avgpool1(outputs)\n",
        "    outputs = F.relu(outputs)\n",
        "    outputs = self.conv2(outputs)\n",
        "    outputs = self.avgpool2(outputs)\n",
        "    outputs = F.relu(outputs)\n",
        "    outputs = self.flatten(outputs)\n",
        "    outputs = self.fc1(outputs)\n",
        "    outputs = self.fc2(outputs)\n",
        "    outputs = self.fc3(outputs)\n",
        "    return outputs"
      ],
      "metadata": {
        "id": "ZFsoyF2Vdpiy"
      },
      "execution_count": null,
      "outputs": []
    },
    {
      "cell_type": "markdown",
      "source": [
        "##Training function"
      ],
      "metadata": {
        "id": "uak25PD4fKn0"
      }
    },
    {
      "cell_type": "code",
      "source": [
        "def train(model, optimizer, criterion, dataloader, device, epoch = 0, log_interval = 50):\n",
        "  model.train()\n",
        "  total_acc, total_count = 0, 0\n",
        "  losses = []\n",
        "  start_time = time.time()\n",
        "\n",
        "  for idx, (inputs, labels) in enumerate(dataloader):\n",
        "    inputs, labels = inputs.to(device), labels.to(device)\n",
        "    optimizer.zero_grad()\n",
        "    outputs = model(inputs)\n",
        "    #compute loss\n",
        "    loss = criterion(outputs, labels)\n",
        "    losses.append(loss.item())\n",
        "    #backward\n",
        "    loss.backward()\n",
        "    torch.nn.utils.clip_grad_norm_(model.parameters(), 0.1)\n",
        "    optimizer.step()\n",
        "\n",
        "    total_acc += (outputs.argmax(1) == labels).sum().item()\n",
        "    total_count += labels.size(0)\n",
        "\n",
        "    if (idx + 1) % log_interval == 0:\n",
        "      elapsed = time.time() - start_time\n",
        "      print(\n",
        "          '| epoch {:3d} | {:5d}/{:5d} batches '\n",
        "          '| accuracy {:8.3f} | loss {:8.3f} | '.format(\n",
        "              epoch, idx + 1, len(dataloader),\n",
        "              total_acc / total_count, np.mean(losses)\n",
        "          )\n",
        "      )\n",
        "      total_acc, total_count = 0, 0\n",
        "      start_time = time.time()\n",
        "\n",
        "  epoch_acc = total_acc / total_count\n",
        "  epoch_loss = np.mean(losses)\n",
        "  return epoch_acc, epoch_loss"
      ],
      "metadata": {
        "id": "a69RIdbAfLku"
      },
      "execution_count": null,
      "outputs": []
    },
    {
      "cell_type": "markdown",
      "source": [
        "##Evaluating function"
      ],
      "metadata": {
        "id": "ILLrQgQ4g1Bm"
      }
    },
    {
      "cell_type": "code",
      "source": [
        "def evaluate(model, criterion, dataloader, device):\n",
        "  model.eval()\n",
        "  total_acc, total_count = 0, 0\n",
        "  losses = []\n",
        "\n",
        "  with torch.no_grad():\n",
        "    for idx, (inputs, labels) in enumerate(dataloader):\n",
        "      inputs, labels = inputs.to(device), labels.to(device)\n",
        "\n",
        "      outputs = model(inputs)\n",
        "      loss = criterion(outputs, labels)\n",
        "      losses.append(loss.item())\n",
        "\n",
        "      total_acc += (outputs.argmax(1) == labels).sum().item()\n",
        "      total_count += labels.size(0)\n",
        "\n",
        "  epoch_acc = total_acc / total_count\n",
        "  epoch_loss = np.mean(losses)\n",
        "  return epoch_acc, epoch_loss"
      ],
      "metadata": {
        "id": "Y-mkj48dgoo-"
      },
      "execution_count": null,
      "outputs": []
    },
    {
      "cell_type": "markdown",
      "source": [
        "##Training"
      ],
      "metadata": {
        "id": "sLcjFr62hIkS"
      }
    },
    {
      "cell_type": "code",
      "source": [
        "num_classes = len(train_data.dataset.classes)\n",
        "device = torch.device('cuda' if torch.cuda.is_available() else 'cpu')\n",
        "lenet_model = LeNetClassifier(num_classes).to(device)\n",
        "\n",
        "criterion = nn.CrossEntropyLoss()\n",
        "optimizer = optim.Adam(lenet_model.parameters())\n",
        "\n",
        "num_epochs = 10\n",
        "save_model = './model'\n",
        "if (not os.path.exists(save_model)):\n",
        "  os.makedirs(save_model)\n",
        "\n",
        "train_accs, train_losses = [], []\n",
        "valid_accs, valid_losses = [], []\n",
        "best_loss_val = 100\n",
        "\n",
        "for epoch in range(1, num_epochs+1):\n",
        "  train_acc, train_loss = train(\n",
        "      lenet_model, optimizer, criterion, train_dataloader, device, epoch\n",
        "  )\n",
        "  train_accs.append(train_acc)\n",
        "  train_losses.append(train_loss)\n",
        "\n",
        "  valid_acc, valid_loss = evaluate(\n",
        "      lenet_model, criterion, valid_dataloader, device\n",
        "  )\n",
        "  valid_accs.append(valid_acc)\n",
        "  valid_losses.append(valid_loss)\n",
        "\n",
        "  #Save best model\n",
        "  if valid_loss < best_loss_val:\n",
        "    best_loss_val = valid_loss\n",
        "    torch.save(lenet_model.state_dict(), save_model + '/best_model.pt')\n",
        "\n",
        "  #Print loss, acc, epoch\n",
        "  print('-'*60)\n",
        "  print(\n",
        "      '| end of epoch {:3d} | train accuracy {:8.3f} | train loss {:8.3f} | '\n",
        "      'valid accuracy {:8.3f} | valid loss {:8.3f} | '.format(\n",
        "          epoch, train_acc, train_loss, valid_acc, valid_loss\n",
        "      )\n",
        "  )\n",
        "  print('-'*60)\n"
      ],
      "metadata": {
        "colab": {
          "base_uri": "https://localhost:8080/"
        },
        "id": "cBd0JxTbhJn3",
        "outputId": "ec08129e-ae5d-48f9-aefe-3bceb055871f"
      },
      "execution_count": null,
      "outputs": [
        {
          "output_type": "stream",
          "name": "stdout",
          "text": [
            "| epoch   1 |    50/  211 batches | accuracy    0.679 | loss    1.164 | \n",
            "| epoch   1 |   100/  211 batches | accuracy    0.882 | loss    0.777 | \n",
            "| epoch   1 |   150/  211 batches | accuracy    0.910 | loss    0.622 | \n",
            "| epoch   1 |   200/  211 batches | accuracy    0.937 | loss    0.520 | \n",
            "------------------------------------------------------------\n",
            "| end of epoch   1 | train accuracy    0.947 | train loss    0.503 | valid accuracy    0.947 | valid loss    0.181 | \n",
            "------------------------------------------------------------\n",
            "| epoch   2 |    50/  211 batches | accuracy    0.954 | loss    0.154 | \n",
            "| epoch   2 |   100/  211 batches | accuracy    0.961 | loss    0.143 | \n",
            "| epoch   2 |   150/  211 batches | accuracy    0.967 | loss    0.132 | \n",
            "| epoch   2 |   200/  211 batches | accuracy    0.968 | loss    0.126 | \n",
            "------------------------------------------------------------\n",
            "| end of epoch   2 | train accuracy    0.972 | train loss    0.124 | valid accuracy    0.970 | valid loss    0.107 | \n",
            "------------------------------------------------------------\n",
            "| epoch   3 |    50/  211 batches | accuracy    0.971 | loss    0.094 | \n",
            "| epoch   3 |   100/  211 batches | accuracy    0.970 | loss    0.095 | \n",
            "| epoch   3 |   150/  211 batches | accuracy    0.975 | loss    0.091 | \n",
            "| epoch   3 |   200/  211 batches | accuracy    0.975 | loss    0.089 | \n",
            "------------------------------------------------------------\n",
            "| end of epoch   3 | train accuracy    0.977 | train loss    0.088 | valid accuracy    0.975 | valid loss    0.095 | \n",
            "------------------------------------------------------------\n",
            "| epoch   4 |    50/  211 batches | accuracy    0.976 | loss    0.077 | \n",
            "| epoch   4 |   100/  211 batches | accuracy    0.977 | loss    0.077 | \n",
            "| epoch   4 |   150/  211 batches | accuracy    0.978 | loss    0.074 | \n",
            "| epoch   4 |   200/  211 batches | accuracy    0.979 | loss    0.073 | \n",
            "------------------------------------------------------------\n",
            "| end of epoch   4 | train accuracy    0.980 | train loss    0.073 | valid accuracy    0.976 | valid loss    0.085 | \n",
            "------------------------------------------------------------\n",
            "| epoch   5 |    50/  211 batches | accuracy    0.980 | loss    0.065 | \n",
            "| epoch   5 |   100/  211 batches | accuracy    0.981 | loss    0.064 | \n",
            "| epoch   5 |   150/  211 batches | accuracy    0.981 | loss    0.063 | \n",
            "| epoch   5 |   200/  211 batches | accuracy    0.982 | loss    0.063 | \n",
            "------------------------------------------------------------\n",
            "| end of epoch   5 | train accuracy    0.978 | train loss    0.063 | valid accuracy    0.979 | valid loss    0.075 | \n",
            "------------------------------------------------------------\n",
            "| epoch   6 |    50/  211 batches | accuracy    0.984 | loss    0.049 | \n",
            "| epoch   6 |   100/  211 batches | accuracy    0.983 | loss    0.055 | \n",
            "| epoch   6 |   150/  211 batches | accuracy    0.983 | loss    0.054 | \n",
            "| epoch   6 |   200/  211 batches | accuracy    0.984 | loss    0.055 | \n",
            "------------------------------------------------------------\n",
            "| end of epoch   6 | train accuracy    0.983 | train loss    0.055 | valid accuracy    0.977 | valid loss    0.073 | \n",
            "------------------------------------------------------------\n",
            "| epoch   7 |    50/  211 batches | accuracy    0.985 | loss    0.048 | \n",
            "| epoch   7 |   100/  211 batches | accuracy    0.985 | loss    0.050 | \n",
            "| epoch   7 |   150/  211 batches | accuracy    0.986 | loss    0.048 | \n",
            "| epoch   7 |   200/  211 batches | accuracy    0.984 | loss    0.050 | \n",
            "------------------------------------------------------------\n",
            "| end of epoch   7 | train accuracy    0.985 | train loss    0.049 | valid accuracy    0.982 | valid loss    0.064 | \n",
            "------------------------------------------------------------\n",
            "| epoch   8 |    50/  211 batches | accuracy    0.986 | loss    0.047 | \n",
            "| epoch   8 |   100/  211 batches | accuracy    0.985 | loss    0.046 | \n",
            "| epoch   8 |   150/  211 batches | accuracy    0.985 | loss    0.047 | \n",
            "| epoch   8 |   200/  211 batches | accuracy    0.986 | loss    0.048 | \n",
            "------------------------------------------------------------\n",
            "| end of epoch   8 | train accuracy    0.984 | train loss    0.047 | valid accuracy    0.981 | valid loss    0.068 | \n",
            "------------------------------------------------------------\n",
            "| epoch   9 |    50/  211 batches | accuracy    0.987 | loss    0.045 | \n",
            "| epoch   9 |   100/  211 batches | accuracy    0.987 | loss    0.043 | \n",
            "| epoch   9 |   150/  211 batches | accuracy    0.988 | loss    0.041 | \n",
            "| epoch   9 |   200/  211 batches | accuracy    0.985 | loss    0.042 | \n",
            "------------------------------------------------------------\n",
            "| end of epoch   9 | train accuracy    0.991 | train loss    0.042 | valid accuracy    0.984 | valid loss    0.059 | \n",
            "------------------------------------------------------------\n",
            "| epoch  10 |    50/  211 batches | accuracy    0.988 | loss    0.038 | \n",
            "| epoch  10 |   100/  211 batches | accuracy    0.989 | loss    0.037 | \n",
            "| epoch  10 |   150/  211 batches | accuracy    0.987 | loss    0.038 | \n",
            "| epoch  10 |   200/  211 batches | accuracy    0.987 | loss    0.039 | \n",
            "------------------------------------------------------------\n",
            "| end of epoch  10 | train accuracy    0.990 | train loss    0.039 | valid accuracy    0.981 | valid loss    0.071 | \n",
            "------------------------------------------------------------\n"
          ]
        }
      ]
    },
    {
      "cell_type": "markdown",
      "source": [
        "##Visualize"
      ],
      "metadata": {
        "id": "PDKGH-pUjVmn"
      }
    },
    {
      "cell_type": "code",
      "source": [
        "fig, ax = plt.subplots(1,2, figsize = (15,5))\n",
        "\n",
        "ax[0].plot(train_accs, label = 'train')\n",
        "ax[0].plot(valid_accs, label = 'valid')\n",
        "\n",
        "ax[1].plot(train_losses, label = 'train')\n",
        "ax[1].plot(valid_losses, label = 'valid')\n",
        "\n",
        "for i in range(2):\n",
        "  ax[i].set_xlabel('Epoch')\n",
        "  ax[i].legend()\n"
      ],
      "metadata": {
        "colab": {
          "base_uri": "https://localhost:8080/",
          "height": 247
        },
        "id": "38zmbSyzjWtD",
        "outputId": "e1a1d4a8-e566-4fc8-fa17-1ac198cd3e0d"
      },
      "execution_count": null,
      "outputs": [
        {
          "output_type": "display_data",
          "data": {
            "text/plain": [
              "<Figure size 1500x500 with 2 Axes>"
            ],
            "image/png": "[encoded data removed]"
          },
          "metadata": {}
        }
      ]
    },
    {
      "cell_type": "markdown",
      "source": [
        "##Evaluating model"
      ],
      "metadata": {
        "id": "aO46Pm1ljiS1"
      }
    },
    {
      "cell_type": "code",
      "source": [
        "lenet_model.load_state_dict(torch.load(save_model + '/best_model.pt'))\n",
        "\n",
        "test_data.transform = test_transforms\n",
        "test_dataloader = data.DataLoader(\n",
        "    test_data,\n",
        "    batch_size = BATCH_SIZE\n",
        ")\n",
        "\n",
        "test_acc, test_loss = evaluate(lenet_model, criterion, test_dataloader, device)\n",
        "print('Test accuracy: {:8.3f} | Test loss: {:8.3f}'.format(test_acc, test_loss))"
      ],
      "metadata": {
        "colab": {
          "base_uri": "https://localhost:8080/"
        },
        "id": "ccMp6AVrjjuA",
        "outputId": "440c5788-0014-4a33-f914-3cb8b058285e"
      },
      "execution_count": null,
      "outputs": [
        {
          "output_type": "stream",
          "name": "stderr",
          "text": [
            "<ipython-input-21-ad8686bf5ee0>:1: FutureWarning: You are using `torch.load` with `weights_only=False` (the current default value), which uses the default pickle module implicitly. It is possible to construct malicious pickle data which will execute arbitrary code during unpickling (See https://github.com/pytorch/pytorch/blob/main/SECURITY.md#untrusted-models for more details). In a future release, the default value for `weights_only` will be flipped to `True`. This limits the functions that could be executed during unpickling. Arbitrary objects will no longer be allowed to be loaded via this mode unless they are explicitly allowlisted by the user via `torch.serialization.add_safe_globals`. We recommend you start setting `weights_only=True` for any use case where you don't have full control of the loaded file. Please open an issue on GitHub for any issues related to this experimental feature.\n",
            "  lenet_model.load_state_dict(torch.load(save_model + '/best_model.pt'))\n"
          ]
        },
        {
          "output_type": "stream",
          "name": "stdout",
          "text": [
            "Test accuracy:    0.986 | Test loss:    0.044\n"
          ]
        }
      ]
    },
    {
      "cell_type": "markdown",
      "source": [
        "##Download"
      ],
      "metadata": {
        "id": "C2eC4yz-kdbk"
      }
    },
    {
      "cell_type": "code",
      "source": [
        "from google.colab import files\n",
        "\n",
        "#download model and data\n",
        "files.download(save_model + '/best_model.pt')\n",
        "files.download('/content/data')"
      ],
      "metadata": {
        "colab": {
          "base_uri": "https://localhost:8080/",
          "height": 34
        },
        "id": "FdMq3Acgkety",
        "outputId": "4c456bd6-cf69-4067-fcc0-8d3347e5e36e"
      },
      "execution_count": null,
      "outputs": [
        {
          "output_type": "display_data",
          "data": {
            "text/plain": [
              "<IPython.core.display.Javascript object>"
            ],
            "application/javascript": [
              "\n",
              "    async function download(id, filename, size) {\n",
              "      if (!google.colab.kernel.accessAllowed) {\n",
              "        return;\n",
              "      }\n",
              "      const div = document.createElement('div');\n",
              "      const label = document.createElement('label');\n",
              "      label.textContent = `Downloading \"${filename}\": `;\n",
              "      div.appendChild(label);\n",
              "      const progress = document.createElement('progress');\n",
              "      progress.max = size;\n",
              "      div.appendChild(progress);\n",
              "      document.body.appendChild(div);\n",
              "\n",
              "      const buffers = [];\n",
              "      let downloaded = 0;\n",
              "\n",
              "      const channel = await google.colab.kernel.comms.open(id);\n",
              "      // Send a message to notify the kernel that we're ready.\n",
              "      channel.send({})\n",
              "\n",
              "      for await (const message of channel.messages) {\n",
              "        // Send a message to notify the kernel that we're ready.\n",
              "        channel.send({})\n",
              "        if (message.buffers) {\n",
              "          for (const buffer of message.buffers) {\n",
              "            buffers.push(buffer);\n",
              "            downloaded += buffer.byteLength;\n",
              "            progress.value = downloaded;\n",
              "          }\n",
              "        }\n",
              "      }\n",
              "      const blob = new Blob(buffers, {type: 'application/binary'});\n",
              "      const a = document.createElement('a');\n",
              "      a.href = window.URL.createObjectURL(blob);\n",
              "      a.download = filename;\n",
              "      div.appendChild(a);\n",
              "      a.click();\n",
              "      div.remove();\n",
              "    }\n",
              "  "
            ]
          },
          "metadata": {}
        },
        {
          "output_type": "display_data",
          "data": {
            "text/plain": [
              "<IPython.core.display.Javascript object>"
            ],
            "application/javascript": [
              "download(\"download_ae068314-5105-4294-b511-a0cac7e15f10\", \"best_model.pt\", 250530)"
            ]
          },
          "metadata": {}
        },
        {
          "output_type": "display_data",
          "data": {
            "text/plain": [
              "<IPython.core.display.Javascript object>"
            ],
            "application/javascript": [
              "\n",
              "    async function download(id, filename, size) {\n",
              "      if (!google.colab.kernel.accessAllowed) {\n",
              "        return;\n",
              "      }\n",
              "      const div = document.createElement('div');\n",
              "      const label = document.createElement('label');\n",
              "      label.textContent = `Downloading \"${filename}\": `;\n",
              "      div.appendChild(label);\n",
              "      const progress = document.createElement('progress');\n",
              "      progress.max = size;\n",
              "      div.appendChild(progress);\n",
              "      document.body.appendChild(div);\n",
              "\n",
              "      const buffers = [];\n",
              "      let downloaded = 0;\n",
              "\n",
              "      const channel = await google.colab.kernel.comms.open(id);\n",
              "      // Send a message to notify the kernel that we're ready.\n",
              "      channel.send({})\n",
              "\n",
              "      for await (const message of channel.messages) {\n",
              "        // Send a message to notify the kernel that we're ready.\n",
              "        channel.send({})\n",
              "        if (message.buffers) {\n",
              "          for (const buffer of message.buffers) {\n",
              "            buffers.push(buffer);\n",
              "            downloaded += buffer.byteLength;\n",
              "            progress.value = downloaded;\n",
              "          }\n",
              "        }\n",
              "      }\n",
              "      const blob = new Blob(buffers, {type: 'application/binary'});\n",
              "      const a = document.createElement('a');\n",
              "      a.href = window.URL.createObjectURL(blob);\n",
              "      a.download = filename;\n",
              "      div.appendChild(a);\n",
              "      a.click();\n",
              "      div.remove();\n",
              "    }\n",
              "  "
            ]
          },
          "metadata": {}
        },
        {
          "output_type": "display_data",
          "data": {
            "text/plain": [
              "<IPython.core.display.Javascript object>"
            ],
            "application/javascript": [
              "download(\"download_6585a947-487b-4f97-bd02-165851ea7451\", \"data\", 4096)"
            ]
          },
          "metadata": {}
        }
      ]
    }
  ]
}